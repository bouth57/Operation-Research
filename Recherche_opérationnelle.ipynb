{
  "cells": [
    {
      "cell_type": "markdown",
      "metadata": {
        "id": "Ehxq9lW62ViK"
      },
      "source": [
        "Titre de l'article: A single machine scheduling problem with availability constraints and sequence-dependent setup costs\n",
        "\n",
        "Auteurs :Francisco Ángel-Bello, Ada Álvarez, Joaquín Pacheco, et Iris Martínez\n",
        "\n",
        "Nom et Prénom : Sahraoui Bouthaina\n",
        "\n",
        "Email :bouthaina.sahraoui@essai.ucar.tn\n",
        "\n",
        "Téléphone :28712776"
      ]
    },
    {
      "cell_type": "markdown",
      "metadata": {
        "id": "haK0Sa7H21MB"
      },
      "source": [
        "# Introduction générale\n",
        "\n",
        " **Un problème de planification d’une seule machine avec des contraintes de disponibilité et des coûts de configuration dépendants de la séquence**, cet article, rédigé en 2010 par Francisco Ángel-Bello, Ada Álvarez, Joaquín Pacheco, et Iris Martínez, explore un domaine crucial de l'optimisation des opérations de production, en se concentrant spécifiquement sur le problème complexe de l'ordonnancement sur une seule machine, intégrant des contraintes de maintenance et des temps de préparation dépendants de la séquence.\n",
        "\n",
        "\n",
        "***La problématique*** abordée dans cet article réside dans la complexité de l'ordonnancement des opérations de production , en tenant compte de périodes de maintenance et de temps de préparation dépendants de la séquence des tâches. Dans de nombreux systèmes de production, la prise en compte des temps de préparation, qui dépendent de la séquence des tâches précédentes, est cruciale pour obtenir des plannings réalistes.\n",
        "\n",
        "***Le contexte*** opérationnel met en lumière la nécessité de trouver des solutions efficaces pour minimiser le temps total nécessaire à l'achèvement de toutes les tâches tout en respectant les contraintes de maintenance et de préparation. Le défi réside dans la modélisation précise de ces contraintes et dans le développement d'approches algorithmiques permettant de résoudre ces problèmes d'ordonnancement de manière optimale.\n",
        "\n",
        "***Les objectifs de l'article :***\n",
        "1. **Modélisation Mathématique :** Développer un modèle mathématique linéaire mixte pour représenter de manière précise les contraintes spécifiques liées aux périodes de maintenance et aux temps de préparation dépendants de la séquence.\n",
        "2. **Renforcement du Modèle :** Identifier les faiblesses de la relaxation linéaire initiale du modèle et proposer une inégalité valide pour améliorer sa performance.\n",
        "3. **Heuristique pour une Solution Initiale :** Proposer une heuristique astucieuse pour générer une solution initiale, visant à fournir un point de départ efficace pour les solveurs.\n",
        "4. **Évaluation des Performances :** Évaluer l'impact de l'inégalité valide et de la solution initiale sur les performances du modèle en termes de qualité des solutions et de temps de calcul.\n"
      ]
    },
    {
      "cell_type": "markdown",
      "metadata": {
        "id": "KNAi3mcI3J2U"
      },
      "source": [
        "# 1. Formulation mathématique du PL\n",
        "\n"
      ]
    },
    {
      "cell_type": "markdown",
      "metadata": {
        "id": "SkS4DgqI3XfQ"
      },
      "source": [
        "**Fonction objectif**\n",
        "\n",
        "$min Z = T⋅S + \\sum_{i=0}^{n} \\sum_{j=1}^{n \\, | \\, j \\neq i} c_{ij} x_{ij}$\n",
        "\n",
        "-  Z représente la fonction objectif globale à minimiser.\n",
        "-  T est la période entre deux activités de maintenance sur une machine .\n",
        "-  S est le nombre de blocs, à l'exception du dernier.\n",
        " Chaque \"bloc\" correspond à une séquence spécifique de tâches pendant une activité de maintenance.\n",
        "\n",
        "\n",
        "- **La variable de decision d'entrée** $x_{ij}$ =\n",
        "\\begin{cases}\n",
        "    1 & \\text {si  l'arc (i, j) est utilisé dans le dernier bloc}, \\\\\n",
        "    0 & \\text{sinon}.\n",
        "\\end{cases}\n",
        "    \n",
        "\n",
        "- **La variable de decision de sortie** $y_{ij}$ =\n",
        "\n",
        "  \\begin{cases}\n",
        "    1 & \\text {si  l'arc (i, j)est utilisé dans n'importe quel bloc à l'exception du dernier}, \\\\\n",
        "    0 & \\text{sinon}.\n",
        "  \\end{cases}\n",
        "    \n",
        "\n",
        "- $c_{ij}$ est le poids associé à l'arc \\((i, j)\\), qui représente le temps nécessaire pour préparer la machine et traiter le travail \\( j \\) immédiatement après le travail \\( i \\).\n",
        "- La double somme $\\sum_{i=0}^{n}\\sum_{i=0}^{n}cij⋅xij$  représente la contribution au makespan de chaque arc \\((i, j)\\) utilisé dans le dernier bloc.\n",
        "\n",
        "**Makespan=$T.S+$Makespan du dernier bloc**\n",
        "\n",
        "Le makespan représente la durée totale nécessaire pour traiter l'ensemble des tâches assignées à la machine spécifique, l'objectif de l'optimisation est de minimiser ce makespan\n",
        "\n",
        "Minimiser le makespan implique d'ordonner les activités de manière à trouver le circuit le plus court et efficace pour leur traitement. Cela se traduit également par la minimisation du nombre total de blocs, nécessitant une organisation optimale des tâches pour chaque activité.\n"
      ]
    },
    {
      "cell_type": "markdown",
      "metadata": {
        "id": "92pwQnuCGNKQ"
      },
      "source": [
        "Le problème peut être représenté sous forme de **graphe orienté**\n",
        "1. **Nœuds :** Le nœud 0 est associé à l'activité de maintenance, et les nœuds 1 à  n sont associés aux travaux.\n",
        "2. **Arcs :** Les arcs ${(i, j)}$ du graphe représentent des connexions dirigées entre les nœuds. Chaque arc indique que le travail $j$ doit être traité immédiatement après le travail $i$.\n",
        "3. **Poids des Arcs $c_{ij}$ :** Chaque arc ${(i, j)}$ a un poids $c_{ij}$ associé, représentant la somme du temps de préparation de la machine $S_{ij}$ et du temps pour effectuer le travail $j$ immédiatement après le travail $i$ $p_j$. Mathématiquement, $c_{ij} = S_{ij} + p_j$\n",
        "\n",
        "\n",
        " ![potentielTache.png](data:image/png;base64,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)\n"
      ]
    },
    {
      "cell_type": "markdown",
      "metadata": {
        "id": "3xKzoth4mEdv"
      },
      "source": [
        "* Ce programme est un programme linéaire mixte en nombres entiers (MILP - Mixed-Integer Linear Programming) en raison des variables binaires $x_{ij}$ et $y_{ij} $ .Les contraintes et la fonction objective sont linéaires, mais la présence de variables binaires le rendent \"mixte\"\n",
        "\n",
        "* Ce programme (Mixed-Integer Linear Programming ou MILP) est un type de problème d'optimisation linéaire où certaines des variables de décision sont autorisées à prendre des valeurs entières (généralement 0 ou 1), tandis que d'autres peuvent prendre des valeurs continues. Cela introduit une composante discrète dans le problème, ce qui peut le rendre plus complexe à résoudre par rapport à un programme linéaire pur\n",
        "\n",
        "* Le terme \"mixte\" fait référence à la combinaison de variables continues et entières dans le problème d'optimisation. Les programmes linéaires mixtes en nombres entiers sont utilisés pour modéliser des situations où des décisions discrètes doivent être prises en plus de décisions continues.\n",
        "\n",
        "  - Pour résoudre ce problèmes linéaires mixtes, les auteurs utilisent la méthode du ***Branch and Bound.***\n",
        "\n"
      ]
    },
    {
      "cell_type": "markdown",
      "source": [
        "***Contraintes d'égalité***\n",
        "\n",
        "* $\\sum_{j=1}^{n} x_{0j} = 1\\quad (1)$\n",
        " Cette contrainte assure qu'après chaque activité de maintenance, un seul travail ${j}$ doit être traité.\n",
        "\n",
        "* $\\sum_{i=1}^{n} x_{i0} = 1\\quad (2)$ Cette contrainte garantit qu'avant chaque activité de maintenance, un seul travail ${i}$ est traité.\n",
        "\n",
        "* $\\sum_{j=1}^{n} y_{0j} = s \\quad (3)$ Cette contrainte assure que le nombre total d'arcs sortant de l'activité de maintenance indiqués par $y_{0j}$ est égal au nombre de blocs ${s}$.\n",
        "\n",
        "* $\\sum_{i=1}^{n} y_{i0} = s\\quad (4)$\n",
        "Cette contrainte garantit que le nombre total d'arcs entrant dans l'activité de maintenance indiqués par $y_{i0}$est égal au nombre de blocs ${s}$."
      ],
      "metadata": {
        "id": "AkIgKQCNz87s"
      }
    },
    {
      "cell_type": "markdown",
      "metadata": {
        "id": "uNpuIrjCJUhR"
      },
      "source": [
        "\n",
        "\n",
        "* $\\sum_{j=0}^{n \\, | \\, j \\neq i} x_{ij} = v_i \\quad \\text{pour } i = 1, 2, \\ldots, n \\quad (5)$\n",
        " - La contrainte (5) spécifie que chaque tâche **dans le dernier bloc** doit avoir exactement **un arc sortant** vers une **autre tâche** (y compris l'activité de maintenance) dans le même bloc\n",
        "\n",
        "* $\\sum_{i=0}^{n \\, | \\, j \\neq i} x_{ij} = v_j \\quad \\text{pour } j = 1, 2, \\ldots, n\\quad (6)$\n",
        " - La contrainte (6) spécifie que pour chaque tâche dans **le dernier bloc**, il doit y avoir exactement un arc entrant **provenant d'une autre tâche** (y compris l'activité de maintenance) dans le même bloc.\n",
        "\n",
        " - Contraintes $\\quad(5)$ et $\\quad(6)$:\n",
        "   ces deux contraintes assurent une structure cohérente et complète pour les arcs sortants et entrants entre les tâches dans le dernier bloc\n",
        "\n",
        "\n",
        "* $\\sum_{j=0}^{n \\, | \\, j \\neq i} y_{ij} = 1 - v_i \\quad \\text{pour } i = 1, 2, \\ldots, n\\quad(7)$\n",
        "\n",
        "* $\\sum_{i=0}^{n \\, | \\, j \\neq i} y_{ij} = 1 - v_j \\quad \\text{pour } j = 1, 2, \\ldots, n\\quad (8)$\n",
        "\n",
        " - Contraintes$\\quad(7)$ et$\\quad(8)$:\n",
        "\n",
        " - Ces contraintes sont similaires aux contraintes $\\quad(5)$ et $\\quad(6)$ mais s'appliquent aux blocs qui ne sont pas le dernier. Elles garantissent qu'il y a un seul arc entrant et sortant pour chaque tâche dans ces ***blocs non derniers***\n",
        "\n",
        " - **La variable $v_i$** =\n",
        "\\begin{cases}\n",
        "    1 & \\text {si le travail $i$ est traité dans le dernier bloc}, \\\\\n",
        "    0 & \\text{sinon}.\n",
        "\\end{cases}\n",
        "\n",
        "\n",
        "\n",
        "\n",
        "\n",
        "\n",
        "\n"
      ]
    },
    {
      "cell_type": "markdown",
      "metadata": {
        "id": "cT-5feL4Opyl"
      },
      "source": [
        "***Contraintes d'inégalité***\n",
        "\n",
        "* $u_i - u_j + (T + c_{ij})x_{ij} \\leq T \\quad \\text{pour } i = 1, 2, \\ldots, n; j = 1, 2, \\ldots, n; j \\neq i\\quad(9) $\n",
        "\n",
        " $c_{0i}x_{0i} \\leq u_i \\leq T - c_{i0}x_{i0} \\quad \\text{pour } i = 1, 2, \\ldots, n $\n",
        "\n",
        "* $u_i - u_j + (T + c_{ij})y_{ij} \\leq T \\quad \\text{pour } i = 1, 2, \\ldots, n; j = 1, 2, \\ldots, n; j \\neq i \\quad(10)$\n",
        "\n",
        " $c_{0i}y_{0i} \\leq u_i \\leq T - c_{i0}y_{i0} \\quad \\text{pour } i = 1, 2, \\ldots, n $\n",
        "\n",
        " $x_{ij} \\in \\{0, 1\\} \\quad \\text{pour } i = 0, 1, \\ldots, n; j = 0, 1, \\ldots, n; j \\neq i $\n",
        "\n",
        " $y_{ij} \\in \\{0, 1\\} \\quad \\text{pour } i = 0, 1, \\ldots, n; j = 0, 1, \\ldots, n; j \\neq i $\n",
        "\n",
        " - les variables auxiliaires $u_i$ sont introduites pour garantir que chaque circuit contient le nœud 0 (représentant l'activité de maintenance 0 ) et que la longueur de chaque circuit n'est pas supérieure à $T$.\n",
        " - Ces variables $u_i$ représentent **le temps** d'achèvement du travail $i$ après la dernière activité de maintenance effectuée avant le travail $i$.\n",
        "\n",
        "* $v_i \\geq 0 \\quad \\text{pour } i = 1, 2, \\ldots, n $\n",
        " $u_i \\geq 0 \\quad \\text{pour } i = 1, 2, \\ldots, n $\n",
        "\n",
        " $S \\geq 0 \\quad (11)$"
      ]
    },
    {
      "cell_type": "markdown",
      "metadata": {
        "id": "2ZG67QhB4Itl"
      },
      "source": [
        "# 2. Résolution du PL"
      ]
    },
    {
      "cell_type": "code",
      "execution_count": null,
      "metadata": {
        "colab": {
          "base_uri": "https://localhost:8080/"
        },
        "id": "Rno5zF5rSgUP",
        "outputId": "04274892-2f15-475f-ed11-707285dd5d6b"
      },
      "outputs": [
        {
          "output_type": "stream",
          "name": "stdout",
          "text": [
            "Collecting pulp\n",
            "  Downloading PuLP-2.7.0-py3-none-any.whl (14.3 MB)\n",
            "\u001b[2K     \u001b[90m━━━━━━━━━━━━━━━━━━━━━━━━━━━━━━━━━━━━━━━━\u001b[0m \u001b[32m14.3/14.3 MB\u001b[0m \u001b[31m67.2 MB/s\u001b[0m eta \u001b[36m0:00:00\u001b[0m\n",
            "\u001b[?25hInstalling collected packages: pulp\n",
            "Successfully installed pulp-2.7.0\n"
          ]
        }
      ],
      "source": [
        "!pip install pulp"
      ]
    },
    {
      "cell_type": "code",
      "execution_count": null,
      "metadata": {
        "id": "bmPiISax3pOf"
      },
      "outputs": [],
      "source": [
        "import numpy as np\n",
        "from pulp import LpProblem, LpMinimize, LpVariable, lpSum, LpStatus, value"
      ]
    },
    {
      "cell_type": "code",
      "execution_count": null,
      "metadata": {
        "id": "t1dtuc894OrN",
        "colab": {
          "base_uri": "https://localhost:8080/"
        },
        "outputId": "4cd6fc66-d414-49fa-b48f-ce0883b70b41"
      },
      "outputs": [
        {
          "output_type": "execute_result",
          "data": {
            "text/plain": [
              "array([[  0, 225, 140, 110,  34, 223],\n",
              "       [133,   0, 230,  71,  23, 238],\n",
              "       [134,   3,   0,  72, 112, 197],\n",
              "       [207, 164,  93,   0, 155, 219],\n",
              "       [135, 149,  44,  32,   0,  86],\n",
              "       [107, 170,  65,   7, 148,   0]])"
            ]
          },
          "metadata": {},
          "execution_count": 6
        }
      ],
      "source": [
        "import random\n",
        "#J'ai fixée les données du problème\n",
        "T = 2880 #minutes équivalent à 2 jours\n",
        "S = 4 # blocs à l'exception du dèrnier\n",
        "n = 5\n",
        "\n",
        "# Matrice aléatoire c_ij\n",
        "np.random.seed(50)  # Pour reproductibilité\n",
        "c_ij = np.random.randint(1, 240, size=(n+1, n+1))\n",
        "np.fill_diagonal(c_ij, 0)\n",
        "c_ij"
      ]
    },
    {
      "cell_type": "code",
      "execution_count": null,
      "metadata": {
        "colab": {
          "base_uri": "https://localhost:8080/"
        },
        "id": "Y_1XQGBp4Oum",
        "outputId": "0036785d-539f-474c-c6c5-bd0898f1101d"
      },
      "outputs": [
        {
          "output_type": "stream",
          "name": "stdout",
          "text": [
            "Status: Optimal\n",
            "Valeur optimale de la fonction objectif 11689.0 \n",
            "C'est la durée totale nécessaire pour traiter toutes les tâches sur la machine\n"
          ]
        }
      ],
      "source": [
        "# Créer le problème\n",
        "prob = LpProblem(\"Makespan\", LpMinimize)\n",
        "\n",
        "# Les variables de décision\n",
        "x = {(i, j): LpVariable(name=f'x_{i}_{j}', cat='Binary') for i in range(n+1) for j in range(n+1) if i != j}\n",
        "y = {(i, j): LpVariable(name=f'y_{i}_{j}', cat='Binary') for i in range(n+1) for j in range(n+1) if i != j}\n",
        "v = {i: LpVariable(name=f'v_{i}', cat='Binary') for i in range(1, n+1)}\n",
        "u = {i: LpVariable(name=f'u_{i}', cat='Continuous') for i in range(1, n+1)}\n",
        "\n",
        "# La fonction objectif\n",
        "prob += T * S + lpSum(c_ij[i, j] * x[i, j] for i in range(n+1) for j in range(n+1) if i != j)\n",
        "\n",
        "# Les contraintes d'égalité\n",
        "prob += lpSum(x[0, j] for j in range(1, n+1)) == 1\n",
        "prob += lpSum(x[i, 0] for i in range(1, n+1)) == 1\n",
        "prob += lpSum(y[0, j] for j in range(1, n+1)) == S\n",
        "prob += lpSum(y[i, 0] for i in range(1, n+1)) == S\n",
        "\n",
        "for i in range(1, n+1):\n",
        "    prob += lpSum(x[i, j] for j in range(n+1) if j != i) == v[i]\n",
        "    prob += lpSum(x[j, i] for j in range(n+1) if j != i) == v[i]\n",
        "    prob += lpSum(y[i, j] for j in range(n+1) if j != i) == 1 - v[i]\n",
        "    prob += lpSum(y[j, i] for j in range(n+1) if j != i) == 1 - v[i]\n",
        "\n",
        "# Les contraintes d'inégalité\n",
        "for i in range(1, n+1):\n",
        "    for j in range(1, n+1):\n",
        "        if i != j:\n",
        "            prob += u[i] - u[j] + (T + c_ij[i, j]) * x[i, j] <= T\n",
        "            prob += c_ij[0, i] * x[0, i] <= u[i]\n",
        "            prob += u[i] <= T - c_ij[i, 0] * x[i, 0]\n",
        "            prob += u[i] - u[j] + (T + c_ij[i, j]) * y[i, j] <= T\n",
        "            prob += c_ij[0, i] * y[0, i] <= u[i]\n",
        "            prob += u[i] <= T - c_ij[i, 0] * y[i, 0]\n",
        "\n",
        "# Résoudre le problème\n",
        "prob.solve()\n",
        "\n",
        "# La solution\n",
        "print(\"Status:\", LpStatus[prob.status])\n",
        "print(\"Valeur optimale de la fonction objectif\", value(prob.objective),\"\\nC'est la durée totale nécessaire pour traiter toutes les tâches sur la machine\")\n"
      ]
    },
    {
      "cell_type": "code",
      "source": [
        "# Les valeurs optimales des variables de décision\n",
        "# Matrices pour chaque variable\n",
        "matrix_x = np.zeros((n+1, n+1))\n",
        "matrix_y = np.zeros((n+1, n+1))\n",
        "matrix_v = np.zeros((1, n))\n",
        "matrix_u = np.zeros((1, n))\n",
        "\n",
        "# Remplir les matrices avec les valeurs optimales\n",
        "for i in range(n+1):\n",
        "    for j in range(n+1):\n",
        "        if i != j:\n",
        "            matrix_x[i, j] = value(x[i, j])\n",
        "\n",
        "for i in range(n+1):\n",
        "    for j in range(n+1):\n",
        "        if i != j:\n",
        "            matrix_y[i, j] = value(y[i, j])\n",
        "\n",
        "for i in range(1, n+1):\n",
        "    matrix_v[0, i-1] = value(v[i])\n",
        "    matrix_u[0, i-1] = value(u[i])\n",
        "\n",
        "print(\"x:\")\n",
        "print(matrix_x)\n",
        "\n",
        "print(\"\\n y:\")\n",
        "print(matrix_y)\n",
        "\n",
        "print(\"\\n v:\")\n",
        "print(matrix_v)\n",
        "\n",
        "print(\"\\n u:\")\n",
        "print(matrix_u)"
      ],
      "metadata": {
        "colab": {
          "base_uri": "https://localhost:8080/"
        },
        "id": "rs4V5z6g7Q_y",
        "outputId": "9b9335e6-b8d7-4f53-8157-c125b300acd1"
      },
      "execution_count": null,
      "outputs": [
        {
          "output_type": "stream",
          "name": "stdout",
          "text": [
            "x:\n",
            "[[0. 0. 0. 0. 1. 0.]\n",
            " [0. 0. 0. 0. 0. 0.]\n",
            " [0. 0. 0. 0. 0. 0.]\n",
            " [0. 0. 0. 0. 0. 0.]\n",
            " [1. 0. 0. 0. 0. 0.]\n",
            " [0. 0. 0. 0. 0. 0.]]\n",
            "\n",
            " y:\n",
            "[[0. 1. 1. 1. 0. 1.]\n",
            " [1. 0. 0. 0. 0. 0.]\n",
            " [1. 0. 0. 0. 0. 0.]\n",
            " [1. 0. 0. 0. 0. 0.]\n",
            " [0. 0. 0. 0. 0. 0.]\n",
            " [1. 0. 0. 0. 0. 0.]]\n",
            "\n",
            " v:\n",
            "[[0. 0. 0. 1. 0.]]\n",
            "\n",
            " u:\n",
            "[[225. 140. 110.  34. 223.]]\n"
          ]
        }
      ]
    },
    {
      "cell_type": "markdown",
      "metadata": {
        "id": "CHUv1feQ4hsV"
      },
      "source": [
        "# Conclusion générale"
      ]
    },
    {
      "cell_type": "markdown",
      "metadata": {
        "id": "qS7dexcg6ntd"
      },
      "source": [
        "# Références bibliographiques\n",
        "\n",
        "1. Van Rossum, G., & Drake Jr, F. L. (1995). Python reference manual. Centrum voor Wiskunde en Informatica Amsterdam.\n",
        "\n",
        "2. Harris, C.R., Millman, K.J., van der Walt, S.J. et al. Array programming with NumPy. *Nature* 585, 357–362 (2020). DOI: 10.1038/s41586-020-2649-2. (Publisher link).\n",
        "\n",
        "3. Hagberg, A., & Conway, D. (2020). Networkx: Network analysis with python. URL: https://networkx.github.io.\n",
        "\n",
        "4. McKinney, W. (2011). pandas: a foundational Python library for data analysis and statistics. *Python for high performance and scientific computing*,\n",
        "vol. 14, no 9, p. 1-9.\n",
        "\n",
        "\n",
        "https://www.coin-or.org/PuLP/CaseStudies/a_blending_problem.html?source=post_page-----d8117da0e2c5--------------------------------#problem-description\n",
        "\n",
        "https://medium.com/walmartglobaltech/understanding-branch-and-bound-in-optimization-problems-d8117da0e2c5\n",
        "\n",
        "https://www.sciencedirect.com/topics/engineering/mixed-integer-linear-programming#:~:text=Mixed%20integer%20linear%20programming%20(MILP)%20is%20the%20state%2Dof,for%20optimization%20of%20energy%20systems.\n",
        "\n",
        "https://courspython.com/apprendre-numpy.html"
      ]
    },
    {
      "cell_type": "code",
      "execution_count": null,
      "metadata": {
        "id": "-EijRMN-J5ow"
      },
      "outputs": [],
      "source": []
    }
  ],
  "metadata": {
    "colab": {
      "provenance": []
    },
    "kernelspec": {
      "display_name": "Python 3",
      "name": "python3"
    },
    "language_info": {
      "name": "python"
    }
  },
  "nbformat": 4,
  "nbformat_minor": 0
}